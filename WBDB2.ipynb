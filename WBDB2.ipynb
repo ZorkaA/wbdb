{
  "nbformat": 4,
  "nbformat_minor": 0,
  "metadata": {
    "colab": {
      "provenance": [],
      "toc_visible": true
    },
    "kernelspec": {
      "name": "python3",
      "display_name": "Python 3"
    },
    "language_info": {
      "name": "python"
    },
    "accelerator": "TPU"
  },
  "cells": [
    {
      "cell_type": "code",
      "source": [
        "########## SETUP: SEE BELOW ##########\n",
        "\n",
        "\n",
        "import pandas as pd\n",
        "import requests\n",
        "from bs4 import BeautifulSoup\n",
        "from tqdm import tqdm\n",
        "from google.colab import drive\n",
        "\n",
        "########## MODIFY THIS: #######\n",
        "memberpath = '/content/drive/My Drive/wbdb2.csv'    #### Change to wherever you want the initial stats site pull to be saved\n",
        "wbdbpath = '/content/drive/My Drive/apidb.csv'      #### Change to wherever you want the DB to be saved\n",
        "drive.mount('/content/drive', force_remount=True)                     #### Comment this line out (#) if you are not using Google Colab\n",
        "########################################\n"
      ],
      "metadata": {
        "colab": {
          "base_uri": "https://localhost:8080/"
        },
        "id": "Itra7AEBwvI8",
        "outputId": "e1d0b676-3e52-4b01-876d-dd3e4d61649a"
      },
      "execution_count": 1,
      "outputs": [
        {
          "output_type": "stream",
          "name": "stdout",
          "text": [
            "Mounted at /content/drive\n"
          ]
        }
      ]
    },
    {
      "cell_type": "code",
      "source": [
        "# setup, we define the URL and parse bs4's request response\n",
        "base_url = 'https://stats.warbrokers.io/squads'\n",
        "page = requests.get(base_url)\n",
        "soup = BeautifulSoup(page.text, 'html.parser')"
      ],
      "metadata": {
        "id": "Xb43yi6QgPod"
      },
      "execution_count": 2,
      "outputs": []
    },
    {
      "cell_type": "code",
      "source": [
        "#searches for the squad list on the main page\n",
        "\n",
        "squad_list = soup.find('ul', {'id': 'squadCollapsible'})\n",
        "squad_names = [a.text for a in squad_list.find_all('a', class_='squadLink')]\n"
      ],
      "metadata": {
        "id": "YWCBU9XEgszZ"
      },
      "execution_count": 3,
      "outputs": []
    },
    {
      "cell_type": "code",
      "source": [
        "#defines dataframe to hold values\n",
        "player_data = pd.DataFrame(columns=['Squad', 'PlayerName', 'ID'])"
      ],
      "metadata": {
        "id": "hRSc3NdCSuNs"
      },
      "execution_count": 4,
      "outputs": []
    },
    {
      "cell_type": "code",
      "source": [
        "#loops through and pulls data from squad pages\n",
        "for squad_name in tqdm(squad_names):\n",
        "    squad_url = f'https://stats.warbrokers.io/squads/{squad_name}'\n",
        "    squad_page = requests.get(squad_url)\n",
        "    squad_soup = BeautifulSoup(squad_page.text, 'html.parser')\n",
        "\n",
        "    player_headers = squad_soup.find_all('div', class_='squad-player-header')\n",
        "\n",
        "    for player_header in player_headers:\n",
        "        player_link = player_header.find('a')\n",
        "        player_name = player_link.text\n",
        "        player_id = player_link['href'].split('/')[-1]\n",
        "\n",
        "        player_data = pd.concat([player_data, pd.DataFrame({'Squad': squad_name, 'PlayerName': player_name, 'ID': player_id}, index=[0])], ignore_index=True)\n",
        "        player_data.to_csv(memberpath)"
      ],
      "metadata": {
        "colab": {
          "base_uri": "https://localhost:8080/"
        },
        "id": "_kj0Z_QZS9Qo",
        "outputId": "0eb75450-f670-4e1e-d8e5-107e516fde3d"
      },
      "execution_count": null,
      "outputs": [
        {
          "output_type": "stream",
          "name": "stderr",
          "text": [
            "  2%|▏         | 5/266 [00:26<22:33,  5.19s/it]"
          ]
        }
      ]
    },
    {
      "cell_type": "code",
      "source": [
        "#defines dataframe for API pull\n",
        "apidb = pd.DataFrame(columns=['Squad', 'PlayerName', 'UID', 'Level', 'XP', 'KillsElo', 'GamesElo', 'Jumps', 'Losses', 'ZombieDeaths', 'ZombieKills', 'ZombieWins', 'DamageDealt', 'Banned', 'Steam', 'Time', 'JoinTime', 'PingTime', 'TimeAliveCount', 'TimeAliveLongest', 'TimeAlive', 'ZombieTimeAliveCount', 'ZombieTimeAlive'])\n",
        "\n",
        "playerdata_iter = tqdm(player_data.iterrows(), total=len(player_data), desc=\"Fetching Player Data\")"
      ],
      "metadata": {
        "id": "-hxARyhL4zO0"
      },
      "execution_count": null,
      "outputs": []
    },
    {
      "cell_type": "code",
      "source": [
        "#loops through initial player list dataframe and augments with info pulled via API. Saves to .csv on every iteration for debugging.\n",
        "for index, row in playerdata_iter:\n",
        "    uid = row['ID']\n",
        "    squad = row['Squad']\n",
        "    player_name = row['PlayerName']\n",
        "\n",
        "    # API URL for the user\n",
        "    api_url = f'https://wbp-wbapi.web.app/players/getPlayer?uid={uid}'\n",
        "\n",
        "    try:\n",
        "        response = requests.get(api_url)\n",
        "        player_info = response.json()\n",
        "\n",
        "        # Extract relevant information from the API response\n",
        "        level = player_info.get('level', 0)\n",
        "        xp = player_info.get('xp', 0)\n",
        "        kills_elo = player_info.get('killsELO', 0)\n",
        "        games_elo = player_info.get('gamesELO', 0)\n",
        "        coins = player_info.get('coins', 0)\n",
        "        jumps = player_info.get('number_of_jumps', 0)\n",
        "        losses = sum(player_info.get('losses', {}).values())\n",
        "        zombie_deaths = player_info.get('zombie_deaths', 0)\n",
        "        zombie_kills = player_info.get('zombie_kills', 0)\n",
        "        zombie_wins = player_info.get('zombie_wins', 0)\n",
        "        damage_dealt = sum(player_info.get('damage_dealt', {}).values())\n",
        "        banned = player_info.get('banned', False)\n",
        "        steam = player_info.get('steam', False)\n",
        "        time = player_info.get('time', 0)\n",
        "        join_time = player_info.get('joinTime', 0)\n",
        "        ping_time = player_info.get('ping_time', 0)\n",
        "        time_alive_count = player_info.get('time_alive_count', 0)\n",
        "        time_alive_longest = player_info.get('time_alive_longest', 0)\n",
        "        time_alive = player_info.get('time_alive', 0)\n",
        "        zombie_time_alive_count = player_info.get('zombie_time_alive_count', 0)\n",
        "        zombie_time_alive = player_info.get('zombie_time_alive', 0)\n",
        "\n",
        "        # Create a DataFrame for the current player\n",
        "        player_df = pd.DataFrame({'Squad': squad, 'PlayerName': player_name, 'UID': uid, 'Level': level, 'XP': xp, 'KillsElo': kills_elo, 'GamesElo': games_elo, 'Coins': coins, 'Jumps': jumps, 'Losses': losses, 'ZombieDeaths': zombie_deaths, 'ZombieKills': zombie_kills, 'ZombieWins': zombie_wins, 'DamageDealt': damage_dealt, 'Banned': banned, 'Steam': steam, 'Time': time, 'JoinTime': join_time, 'PingTime': ping_time, 'TimeAliveCount': time_alive_count, 'TimeAliveLongest': time_alive_longest, 'TimeAlive': time_alive, 'ZombieTimeAliveCount': zombie_time_alive_count, 'ZombieTimeAlive': zombie_time_alive}, index=[0])\n",
        "\n",
        "        # Concatenate the player DataFrame to apidb\n",
        "        apidb = pd.concat([apidb, player_df], ignore_index=True)\n",
        "        apidb.to_csv(wbdbpath)\n",
        "\n",
        "    except Exception as e:\n",
        "        print(f\"Error retrieving data for {player_name}: {str(e)}\")\n",
        "\n",
        "  apidb['Steam'] = apidb['Steam'].astype(bool) #set explicitly as bool"
      ],
      "metadata": {
        "id": "9-i7j8gX9R_E"
      },
      "execution_count": null,
      "outputs": []
    },
    {
      "cell_type": "code",
      "source": [],
      "metadata": {
        "id": "txRtBnV09Vcy"
      },
      "execution_count": null,
      "outputs": []
    }
  ]
}